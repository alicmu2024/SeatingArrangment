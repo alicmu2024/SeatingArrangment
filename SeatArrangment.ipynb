{
  "nbformat": 4,
  "nbformat_minor": 0,
  "metadata": {
    "colab": {
      "provenance": []
    },
    "kernelspec": {
      "name": "python3",
      "display_name": "Python 3"
    },
    "language_info": {
      "name": "python"
    }
  },
  "cells": [
    {
      "cell_type": "code",
      "source": [
        "import torch\n",
        "import torch.nn as nn\n",
        "import torch.optim as optim\n",
        "import numpy as np\n",
        "\n",
        "num_attendees = 24\n",
        "num_conflicts = 40\n",
        "\n",
        "conflict_matrix = np.zeros((num_attendees, num_attendees), dtype=int)\n",
        "conflicts = set()\n",
        "\n",
        "while len(conflicts) < num_conflicts:\n",
        "    i, j = np.random.randint(0, num_attendees, size=2)\n",
        "    if i != j and (i, j) not in conflicts:\n",
        "        conflicts.add((i, j))\n",
        "        conflict_matrix[i, j] = 1\n",
        "        if np.random.random() < 0.5:  # 50% chance of two-directional conflict\n",
        "            conflict_matrix[j, i] = 1\n",
        "\n",
        "conflict_tensor = torch.tensor(conflict_matrix, dtype=torch.float32)"
      ],
      "metadata": {
        "id": "PK3BZ_BpfqP0"
      },
      "execution_count": null,
      "outputs": []
    },
    {
      "cell_type": "code",
      "source": [
        "class SeatingNet(nn.Module):\n",
        "    def __init__(self, num_people):\n",
        "        super(SeatingNet, self).__init__()\n",
        "        self.fc1 = nn.Linear(num_people * num_people, 256)\n",
        "        # self.bn1 = nn.BatchNorm1d(256)\n",
        "        self.fc2 = nn.Linear(256, 128)\n",
        "        # self.bn2 = nn.BatchNorm1d(128)\n",
        "        self.fc3 = nn.Linear(128, num_people * num_people)\n",
        "        self.relu = nn.ReLU()\n",
        "        self.softmax = nn.Softmax(dim=1)\n",
        "\n",
        "    def forward(self, x):\n",
        "        x = x.view(1, -1)\n",
        "        x = self.relu(self.fc1(x))\n",
        "        x = self.relu(self.fc2(x))\n",
        "        x = self.fc3(x)\n",
        "        x = x.view(num_attendees, num_attendees)\n",
        "        x = self.softmax(x)\n",
        "        return x\n",
        "\n",
        "model = SeatingNet(num_attendees)"
      ],
      "metadata": {
        "id": "pu3MXq_yfqNF"
      },
      "execution_count": null,
      "outputs": []
    },
    {
      "cell_type": "code",
      "source": [
        "def seating_loss(seating_probs, conflict_matrix):\n",
        "    # Create adjacency matrix for the 6x4 seating arrangement\n",
        "    adj_matrix = torch.zeros(24, 24)\n",
        "    for i in range(24):\n",
        "        if i % 4 != 3:  # Right neighbor\n",
        "            adj_matrix[i, i+1] = 1\n",
        "        if i % 4 != 0:  # Left neighbor\n",
        "            adj_matrix[i, i-1] = 1\n",
        "        if i < 20:  # Bottom neighbor\n",
        "            adj_matrix[i, i+4] = 1\n",
        "        if i >= 4:  # Top neighbor\n",
        "            adj_matrix[i, i-4] = 1\n",
        "\n",
        "    # Calculate probability of conflicts\n",
        "    conflict_prob = torch.matmul(torch.matmul(seating_probs.T, adj_matrix), seating_probs)\n",
        "\n",
        "    # Simplified loss: sum of conflict probabilities where there are actual conflicts\n",
        "    loss = torch.sum(conflict_prob * conflict_matrix)\n",
        "\n",
        "    # Add L2 regularization to encourage diverse seating\n",
        "    l2_loss = torch.sum(seating_probs ** 2)\n",
        "\n",
        "    return loss + 0.01 * l2_loss\n",
        "\n",
        "optimizer = optim.Adam(model.parameters(), lr=0.001)"
      ],
      "metadata": {
        "id": "A1o1a_-2fqKl"
      },
      "execution_count": null,
      "outputs": []
    },
    {
      "cell_type": "code",
      "source": [
        "# Training loop\n",
        "num_epochs = 1000\n",
        "for epoch in range(num_epochs):\n",
        "    optimizer.zero_grad()\n",
        "    seating_probs = model(conflict_tensor)\n",
        "    loss = seating_loss(seating_probs, conflict_tensor)\n",
        "    loss.backward()\n",
        "\n",
        "    # Gradient clipping\n",
        "    torch.nn.utils.clip_grad_norm_(model.parameters(), max_norm=1.0)\n",
        "\n",
        "    optimizer.step()\n",
        "\n",
        "    if (epoch + 1) % 100 == 0:\n",
        "        print(f'Epoch [{epoch+1}/{num_epochs}], Loss: {loss.item():.4f}')\n",
        "\n",
        "# Generate final seating arrangement\n",
        "with torch.no_grad():\n",
        "    seating_probs = model(conflict_tensor)\n",
        "    seating = torch.argmax(seating_probs, dim=1)\n",
        "    print(\"Final seating arrangement:\", seating.numpy())\n",
        "\n",
        "# Evaluate the solution\n",
        "def evaluate_seating(seating, conflict_matrix):\n",
        "    conflicts = 0\n",
        "    for i in range(num_attendees):\n",
        "        for j in range(num_attendees):\n",
        "            if conflict_matrix[i, j] == 1:\n",
        "                if abs(seating[i] - seating[j]) == 1 or abs(seating[i] - seating[j]) == 4:\n",
        "                    conflicts += 1\n",
        "    return conflicts\n",
        "\n",
        "final_conflicts = evaluate_seating(seating, conflict_tensor)\n",
        "print(f\"Number of conflicts in final arrangement: {final_conflicts}\")"
      ],
      "metadata": {
        "colab": {
          "base_uri": "https://localhost:8080/"
        },
        "id": "YaOAjj30fqH_",
        "outputId": "06427f13-4c1e-46cf-f6f2-79b1533854ee"
      },
      "execution_count": null,
      "outputs": [
        {
          "output_type": "stream",
          "name": "stdout",
          "text": [
            "Epoch [100/1000], Loss: 0.0320\n",
            "Epoch [200/1000], Loss: 0.0289\n",
            "Epoch [300/1000], Loss: 0.0276\n",
            "Epoch [400/1000], Loss: 0.0263\n",
            "Epoch [500/1000], Loss: 0.0257\n",
            "Epoch [600/1000], Loss: 0.0253\n",
            "Epoch [700/1000], Loss: 0.0248\n",
            "Epoch [800/1000], Loss: 0.0246\n",
            "Epoch [900/1000], Loss: 0.0243\n",
            "Epoch [1000/1000], Loss: 0.0242\n",
            "Final seating arrangement: [15  7 15 19 15 22  7 22 19 20 22 22 15  5 15 19 18 15 23 18 15  7 23  3]\n",
            "Number of conflicts in final arrangement: 11\n"
          ]
        }
      ]
    }
  ]
}